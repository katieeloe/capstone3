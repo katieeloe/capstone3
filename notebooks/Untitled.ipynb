{
 "cells": [
  {
   "cell_type": "code",
   "execution_count": 39,
   "metadata": {},
   "outputs": [],
   "source": [
    "import requests # Python package to send get/post requests to a webpage\n",
    "import os       # Python package to interface with the operating system\n",
    "import pandas as pd\n",
    "import csv\n",
    "import json\n",
    "from operator import itemgetter\n",
    "from collections import Counter"
   ]
  },
  {
   "cell_type": "code",
   "execution_count": 20,
   "metadata": {},
   "outputs": [],
   "source": [
    "def get_current_ids(file_path):\n",
    "\n",
    "    with open(file_path, 'r') as f:\n",
    "        current_recipe_ids = csv.reader(f)\n",
    "        current_recipe_ids = list(current_recipe_ids)[0]\n",
    "        current_recipe_ids = set([int(id) for id in current_recipe_ids])\n",
    "    return current_recipe_ids"
   ]
  },
  {
   "cell_type": "code",
   "execution_count": 3,
   "metadata": {},
   "outputs": [],
   "source": [
    "def get_random_recipes(number, payload):\n",
    "    '''\n",
    "    This endpoint pulls the full recipes.\n",
    "    '''\n",
    "    endpoint = \"https://spoonacular-recipe-food-nutrition-v1.p.rapidapi.com/recipes/random?number=\" + str(number)\n",
    "    response = requests.get(endpoint, headers=payload)\n",
    "    recipe_text = response.text.replace('},{\"vegetarian' , '}$%&->recipe_end<-&%${\"vegetarian')\n",
    "    recipe_json = response.json()['recipes']\n",
    "    recipe_ids = [recipe['id'] for recipe in recipe_json]\n",
    "\n",
    "    return recipe_text[12:-2], recipe_json, recipe_ids, response"
   ]
  },
  {
   "cell_type": "code",
   "execution_count": 52,
   "metadata": {},
   "outputs": [],
   "source": [
    "def remove_duplicate_recipes(current_recipe_ids, recipe_json, recipe_ids):\n",
    "    for idx, id in enumerate(recipe_ids):\n",
    "        if id in current_recipe_ids:\n",
    "            del recipe_json[idx]\n",
    "            del recipe_ids[idx]\n",
    "            continue\n",
    "\n",
    "    recipe_text = json.dumps(recipe_json).replace('}, {\"vegetarian' , '}$%&->recipe_end<-&%${\"vegetarian')[1:-1]\n",
    "    \n",
    "\n",
    "    return recipe_text, recipe_ids"
   ]
  },
  {
   "cell_type": "code",
   "execution_count": 5,
   "metadata": {},
   "outputs": [],
   "source": [
    "API_KEY = os.environ['Spoontacular_API_KEY']\n",
    "payload = {'X-RapidAPI-Key': API_KEY}\n",
    "folder_path = '/home/katie/01-OneDrive/01_galvanize_dsi/capstones/03-capstone_3/data/'\n",
    "text_files = ['random_recipes.txt', 'recipe_ids.csv']\n",
    "\n",
    "#can only pull up to 100 in one call to API\n",
    "recipe_text, recipe_json, recipe_ids, response = get_random_recipes(number = 2, payload = payload)"
   ]
  },
  {
   "cell_type": "code",
   "execution_count": 21,
   "metadata": {},
   "outputs": [],
   "source": [
    "current_recipe_ids = get_current_ids('/home/katie/01-OneDrive/01_galvanize_dsi/capstones/03-capstone_3/data/recipe_ids.csv')"
   ]
  },
  {
   "cell_type": "code",
   "execution_count": 53,
   "metadata": {},
   "outputs": [],
   "source": [
    "recipe_text, recipe_ids = remove_duplicate_recipes(current_recipe_ids, recipe_json, recipe_ids)"
   ]
  },
  {
   "cell_type": "code",
   "execution_count": 54,
   "metadata": {},
   "outputs": [
    {
     "data": {
      "text/plain": [
       "'{\"vegetarian\": true, \"vegan\": false, \"glutenFree\": false, \"dairyFree\": false, \"veryHealthy\": false, \"cheap\": false, \"veryPopular\": true, \"sustainable\": false, \"weightWatcherSmartPoints\": 4, \"gaps\": \"no\", \"lowFodmap\": false, \"ketogenic\": false, \"whole30\": false, \"preparationMinutes\": 0, \"cookingMinutes\": 45, \"sourceUrl\": \"http://www.MotherThyme.com/2011/09/whole-wheat-pumpkin-pancakes.html\", \"spoonacularSourceUrl\": \"https://spoonacular.com/whole-wheat-pumpkin-pancakes-515428\", \"aggregateLikes\": 1936, \"spoonacularScore\": 62.0, \"healthScore\": 7.0, \"pricePerServing\": 34.48, \"extendedIngredients\": [{\"id\": 18371, \"aisle\": \"Baking\", \"image\": \"white-powder.jpg\", \"consitency\": \"solid\", \"name\": \"baking powder\", \"original\": \"3 teaspoons baking powder\", \"originalString\": \"3 teaspoons baking powder\", \"originalName\": \"baking powder\", \"amount\": 3.0, \"unit\": \"teaspoons\", \"meta\": [], \"metaInformation\": [], \"measures\": {\"us\": {\"amount\": 3.0, \"unitShort\": \"tsps\", \"unitLong\": \"teaspoons\"}, \"metric\": {\"amount\": 3.0, \"unitShort\": \"tsps\", \"unitLong\": \"teaspoons\"}}}, {\"id\": 1001, \"aisle\": \"Milk, Eggs, Other Dairy\", \"image\": \"butter-sliced.jpg\", \"consitency\": \"solid\", \"name\": \"butter\", \"original\": \"2 tablespoons butter, melted\", \"originalString\": \"2 tablespoons butter, melted\", \"originalName\": \"butter, melted\", \"amount\": 2.0, \"unit\": \"tablespoons\", \"meta\": [\"melted\"], \"metaInformation\": [\"melted\"], \"measures\": {\"us\": {\"amount\": 2.0, \"unitShort\": \"Tbsps\", \"unitLong\": \"Tbsps\"}, \"metric\": {\"amount\": 2.0, \"unitShort\": \"Tbsps\", \"unitLong\": \"Tbsps\"}}}, {\"id\": 2010, \"aisle\": \"Spices and Seasonings\", \"image\": \"cinnamon.jpg\", \"consitency\": \"solid\", \"name\": \"cinnamon\", \"original\": \"1/2 teaspoon cinnamon\", \"originalString\": \"1/2 teaspoon cinnamon\", \"originalName\": \"cinnamon\", \"amount\": 0.5, \"unit\": \"teaspoon\", \"meta\": [], \"metaInformation\": [], \"measures\": {\"us\": {\"amount\": 0.5, \"unitShort\": \"tsps\", \"unitLong\": \"teaspoons\"}, \"metric\": {\"amount\": 0.5, \"unitShort\": \"tsps\", \"unitLong\": \"teaspoons\"}}}, {\"id\": 1123, \"aisle\": \"Milk, Eggs, Other Dairy\", \"image\": \"egg.png\", \"consitency\": \"solid\", \"name\": \"egg\", \"original\": \"1 large egg, lightly beaten\", \"originalString\": \"1 large egg, lightly beaten\", \"originalName\": \"egg, lightly beaten\", \"amount\": 1.0, \"unit\": \"large\", \"meta\": [\"lightly beaten\"], \"metaInformation\": [\"lightly beaten\"], \"measures\": {\"us\": {\"amount\": 1.0, \"unitShort\": \"large\", \"unitLong\": \"large\"}, \"metric\": {\"amount\": 1.0, \"unitShort\": \"large\", \"unitLong\": \"large\"}}}, {\"id\": 1077, \"aisle\": \"Milk, Eggs, Other Dairy\", \"image\": \"milk.png\", \"consitency\": \"liquid\", \"name\": \"milk\", \"original\": \"1 1/4 cup milk\", \"originalString\": \"1 1/4 cup milk\", \"originalName\": \"milk\", \"amount\": 1.25, \"unit\": \"cup\", \"meta\": [], \"metaInformation\": [], \"measures\": {\"us\": {\"amount\": 1.25, \"unitShort\": \"cups\", \"unitLong\": \"cups\"}, \"metric\": {\"amount\": 295.735, \"unitShort\": \"ml\", \"unitLong\": \"milliliters\"}}}, {\"id\": 1002035, \"aisle\": \"Spices and Seasonings\", \"image\": \"garam-masala.jpg\", \"consitency\": \"solid\", \"name\": \"pumpkin pie spice\", \"original\": \"1 1/2 teaspoons pumpkin pie spice\", \"originalString\": \"1 1/2 teaspoons pumpkin pie spice\", \"originalName\": \"pumpkin pie spice\", \"amount\": 1.5, \"unit\": \"teaspoons\", \"meta\": [], \"metaInformation\": [], \"measures\": {\"us\": {\"amount\": 1.5, \"unitShort\": \"tsps\", \"unitLong\": \"teaspoons\"}, \"metric\": {\"amount\": 1.5, \"unitShort\": \"tsps\", \"unitLong\": \"teaspoons\"}}}, {\"id\": 11424, \"aisle\": \"Baking\", \"image\": \"pumpkin-puree.jpg\", \"consitency\": \"solid\", \"name\": \"pumpkin puree\", \"original\": \"1 cup pumpkin puree\", \"originalString\": \"1 cup pumpkin puree\", \"originalName\": \"pumpkin puree\", \"amount\": 1.0, \"unit\": \"cup\", \"meta\": [], \"metaInformation\": [], \"measures\": {\"us\": {\"amount\": 1.0, \"unitShort\": \"cup\", \"unitLong\": \"cup\"}, \"metric\": {\"amount\": 236.588, \"unitShort\": \"ml\", \"unitLong\": \"milliliters\"}}}, {\"id\": 2047, \"aisle\": \"Spices and Seasonings\", \"image\": \"salt.jpg\", \"consitency\": \"solid\", \"name\": \"salt\", \"original\": \"1/2 teaspoon salt\", \"originalString\": \"1/2 teaspoon salt\", \"originalName\": \"salt\", \"amount\": 0.5, \"unit\": \"teaspoon\", \"meta\": [], \"metaInformation\": [], \"measures\": {\"us\": {\"amount\": 0.5, \"unitShort\": \"tsps\", \"unitLong\": \"teaspoons\"}, \"metric\": {\"amount\": 0.5, \"unitShort\": \"tsps\", \"unitLong\": \"teaspoons\"}}}, {\"id\": 19335, \"aisle\": \"Baking\", \"image\": \"sugar-in-bowl.png\", \"consitency\": \"solid\", \"name\": \"sugar\", \"original\": \"2 tablespoons sugar\", \"originalString\": \"2 tablespoons sugar\", \"originalName\": \"sugar\", \"amount\": 2.0, \"unit\": \"tablespoons\", \"meta\": [], \"metaInformation\": [], \"measures\": {\"us\": {\"amount\": 2.0, \"unitShort\": \"Tbsps\", \"unitLong\": \"Tbsps\"}, \"metric\": {\"amount\": 2.0, \"unitShort\": \"Tbsps\", \"unitLong\": \"Tbsps\"}}}, {\"id\": 20080, \"aisle\": \"Baking\", \"image\": \"flour.png\", \"consitency\": \"solid\", \"name\": \"whole wheat flour\", \"original\": \"1 1/2 cups whole wheat flour\", \"originalString\": \"1 1/2 cups whole wheat flour\", \"originalName\": \"whole wheat flour\", \"amount\": 1.5, \"unit\": \"cups\", \"meta\": [\"whole wheat\"], \"metaInformation\": [\"whole wheat\"], \"measures\": {\"us\": {\"amount\": 1.5, \"unitShort\": \"cups\", \"unitLong\": \"cups\"}, \"metric\": {\"amount\": 354.882, \"unitShort\": \"ml\", \"unitLong\": \"milliliters\"}}}], \"id\": 515428, \"title\": \"Whole Wheat Pumpkin Pancakes\", \"readyInMinutes\": 45, \"servings\": 10, \"image\": \"https://spoonacular.com/recipeImages/515428-556x370.jpg\", \"imageType\": \"jpg\", \"cuisines\": [], \"dishTypes\": [\"side dish\"], \"diets\": [\"lacto ovo vegetarian\"], \"occasions\": [], \"winePairing\": {}, \"instructions\": \"In a large batter bowl stir together flour, baking powder, sugar, salt, cinnamon and pumpkin pie spice.  Make a well in the center and add in milk, pumpkin puree, egg and butter and stir until well combined.Preheat a large greased skillet and pour desired amount of batter.  Flip pancakes when tiny pin size bubbles begin to form.  Serve warm.\", \"analyzedInstructions\": [{\"name\": \"\", \"steps\": [{\"number\": 1, \"step\": \"In a large batter bowl stir together flour, baking powder, sugar, salt, cinnamon and pumpkin pie spice.  Make a well in the center and add in milk, pumpkin puree, egg and butter and stir until well combined.Preheat a large greased skillet and pour desired amount of batter.  Flip pancakes when tiny pin size bubbles begin to form.\", \"ingredients\": [{\"id\": 1002035, \"name\": \"pumpkin pie spice\", \"image\": \"garam-masala.jpg\"}, {\"id\": 18371, \"name\": \"baking powder\", \"image\": \"white-powder.jpg\"}, {\"id\": 11424, \"name\": \"canned pumpkin\", \"image\": \"pumpkin-puree.jpg\"}, {\"id\": 2010, \"name\": \"cinnamon\", \"image\": \"cinnamon.jpg\"}, {\"id\": 1001, \"name\": \"butter\", \"image\": \"butter-sliced.jpg\"}, {\"id\": 19335, \"name\": \"sugar\", \"image\": \"sugar-in-bowl.png\"}, {\"id\": 1077, \"name\": \"milk\", \"image\": \"milk.png\"}, {\"id\": 2047, \"name\": \"salt\", \"image\": \"salt.jpg\"}, {\"id\": 1123, \"name\": \"egg\", \"image\": \"egg.png\"}], \"equipment\": [{\"id\": 404645, \"name\": \"frying pan\", \"image\": \"pan.png\"}, {\"id\": 404783, \"name\": \"bowl\", \"image\": \"bowl.jpg\"}]}, {\"number\": 2, \"step\": \"Serve warm.\", \"ingredients\": [], \"equipment\": []}]}], \"sourceName\": null, \"creditsText\": null}$%&->recipe_end<-&%${\"vegetarian\": true, \"vegan\": false, \"glutenFree\": true, \"dairyFree\": false, \"veryHealthy\": false, \"cheap\": false, \"veryPopular\": false, \"sustainable\": false, \"weightWatcherSmartPoints\": 3, \"gaps\": \"no\", \"lowFodmap\": false, \"ketogenic\": false, \"whole30\": false, \"preparationMinutes\": 5, \"cookingMinutes\": 60, \"sourceUrl\": \"http://www.lifesambrosia.com/2012/10/spicy-sriracha-pumpkin-seeds-recipe.html\", \"spoonacularSourceUrl\": \"https://spoonacular.com/spicy-sriracha-pumpkin-seeds-567746\", \"aggregateLikes\": 32, \"spoonacularScore\": 29.0, \"healthScore\": 2.0, \"creditText\": \"Lifes Ambrosia\", \"sourceName\": \"Lifes Ambrosia\", \"pricePerServing\": 32.64, \"extendedIngredients\": [{\"id\": 1001, \"aisle\": \"Milk, Eggs, Other Dairy\", \"image\": \"butter-sliced.jpg\", \"consitency\": \"solid\", \"name\": \"butter\", \"original\": \"2 tablespoons butter\", \"originalString\": \"2 tablespoons butter\", \"originalName\": \"butter\", \"amount\": 2.0, \"unit\": \"tablespoons\", \"meta\": [], \"metaInformation\": [], \"measures\": {\"us\": {\"amount\": 2.0, \"unitShort\": \"Tbsps\", \"unitLong\": \"Tbsps\"}, \"metric\": {\"amount\": 2.0, \"unitShort\": \"Tbsps\", \"unitLong\": \"Tbsps\"}}}, {\"id\": 1002020, \"aisle\": \"Spices and Seasonings\", \"image\": \"granulated-garlic.png\", \"consitency\": \"solid\", \"name\": \"granulated garlic\", \"original\": \"1/4 teaspoon granulated garlic\", \"originalString\": \"1/4 teaspoon granulated garlic\", \"originalName\": \"granulated garlic\", \"amount\": 0.25, \"unit\": \"teaspoon\", \"meta\": [], \"metaInformation\": [], \"measures\": {\"us\": {\"amount\": 0.25, \"unitShort\": \"tsps\", \"unitLong\": \"teaspoons\"}, \"metric\": {\"amount\": 0.25, \"unitShort\": \"tsps\", \"unitLong\": \"teaspoons\"}}}, {\"id\": 2021, \"aisle\": \"Spices and Seasonings\", \"image\": \"ginger.png\", \"consitency\": \"solid\", \"name\": \"ground ginger\", \"original\": \"1/4 teaspoon ground ginger\", \"originalString\": \"1/4 teaspoon ground ginger\", \"originalName\": \"ground ginger\", \"amount\": 0.25, \"unit\": \"teaspoon\", \"meta\": [], \"metaInformation\": [], \"measures\": {\"us\": {\"amount\": 0.25, \"unitShort\": \"tsps\", \"unitLong\": \"teaspoons\"}, \"metric\": {\"amount\": 0.25, \"unitShort\": \"tsps\", \"unitLong\": \"teaspoons\"}}}, {\"id\": 1082047, \"aisle\": \"Spices and Seasonings\", \"image\": \"salt.jpg\", \"consitency\": \"solid\", \"name\": \"kosher salt\", \"original\": \"1/2 teaspoon kosher salt\", \"originalString\": \"1/2 teaspoon kosher salt\", \"originalName\": \"kosher salt\", \"amount\": 0.5, \"unit\": \"teaspoon\", \"meta\": [], \"metaInformation\": [], \"measures\": {\"us\": {\"amount\": 0.5, \"unitShort\": \"tsps\", \"unitLong\": \"teaspoons\"}, \"metric\": {\"amount\": 0.5, \"unitShort\": \"tsps\", \"unitLong\": \"teaspoons\"}}}, {\"id\": 12014, \"aisle\": \"Savory Snacks\", \"image\": \"pumpkin-seeds.jpg\", \"consitency\": \"solid\", \"name\": \"pumpkin seeds\", \"original\": \"2 1/2 cups raw pumpkin seeds, rinsed and pat dry\", \"originalString\": \"2 1/2 cups raw pumpkin seeds, rinsed and pat dry\", \"originalName\": \"raw pumpkin seeds, rinsed and pat dry\", \"amount\": 2.5, \"unit\": \"cups\", \"meta\": [\"raw\", \"dry\", \"rinsed\"], \"metaInformation\": [\"raw\", \"dry\", \"rinsed\"], \"measures\": {\"us\": {\"amount\": 2.5, \"unitShort\": \"cups\", \"unitLong\": \"cups\"}, \"metric\": {\"amount\": 591.47, \"unitShort\": \"ml\", \"unitLong\": \"milliliters\"}}}, {\"id\": 1016168, \"aisle\": \"Condiments\", \"image\": \"hot-sauce-or-tabasco.png\", \"consitency\": \"liquid\", \"name\": \"sriracha\", \"original\": \"2 teaspoons sriracha\", \"originalString\": \"2 teaspoons sriracha\", \"originalName\": \"sriracha\", \"amount\": 2.0, \"unit\": \"teaspoons\", \"meta\": [], \"metaInformation\": [], \"measures\": {\"us\": {\"amount\": 2.0, \"unitShort\": \"tsps\", \"unitLong\": \"teaspoons\"}, \"metric\": {\"amount\": 2.0, \"unitShort\": \"tsps\", \"unitLong\": \"teaspoons\"}}}], \"id\": 567746, \"title\": \"Spicy Sriracha Pumpkin Seeds\", \"readyInMinutes\": 65, \"servings\": 10, \"image\": \"https://spoonacular.com/recipeImages/567746-556x370.jpg\", \"imageType\": \"jpg\", \"cuisines\": [], \"dishTypes\": [\"side dish\"], \"diets\": [\"gluten free\", \"lacto ovo vegetarian\"], \"occasions\": [], \"winePairing\": {}, \"instructions\": \"Preheat oven to 350 degrees.    In a saucepan melt butter. Once melted stir in sriracha, ginger, garlic and kosher salt. Mix well.    Pour sauce over pumpkin seeds and toss to coat well. Lay seeds in a single layer on a baking sheet and bake in preheated oven for 1 hour or until crisp to the bite.    Season with more salt if desired. Serve.\", \"analyzedInstructions\": [{\"name\": \"\", \"steps\": [{\"number\": 1, \"step\": \"Preheat oven to 350 degrees.    In a saucepan melt butter. Once melted stir in sriracha, ginger, garlic and kosher salt.\", \"ingredients\": [{\"id\": 1082047, \"name\": \"kosher salt\", \"image\": \"salt.jpg\"}, {\"id\": 1016168, \"name\": \"sriracha\", \"image\": \"hot-sauce-or-tabasco.png\"}, {\"id\": 1001, \"name\": \"butter\", \"image\": \"butter-sliced.jpg\"}], \"equipment\": [{\"id\": 404669, \"name\": \"sauce pan\", \"image\": \"sauce-pan.jpg\"}, {\"id\": 404784, \"name\": \"oven\", \"image\": \"oven.jpg\"}]}, {\"number\": 2, \"step\": \"Mix well.\", \"ingredients\": [], \"equipment\": []}, {\"number\": 3, \"step\": \"Pour sauce over pumpkin seeds and toss to coat well. Lay seeds in a single layer on a baking sheet and bake in preheated oven for 1 hour or until crisp to the bite.    Season with more salt if desired.\", \"ingredients\": [{\"id\": 12014, \"name\": \"pumpkin seeds\", \"image\": \"pumpkin-seeds.jpg\"}, {\"id\": 2047, \"name\": \"salt\", \"image\": \"salt.jpg\"}], \"equipment\": [{\"id\": 404727, \"name\": \"baking sheet\", \"image\": \"baking-sheet.jpg\"}, {\"id\": 404784, \"name\": \"oven\", \"image\": \"oven.jpg\"}]}, {\"number\": 4, \"step\": \"Serve.\", \"ingredients\": [], \"equipment\": []}]}], \"creditsText\": \"Lifes Ambrosia\"}'"
      ]
     },
     "execution_count": 54,
     "metadata": {},
     "output_type": "execute_result"
    }
   ],
   "source": [
    "recipe_text"
   ]
  },
  {
   "cell_type": "code",
   "execution_count": 55,
   "metadata": {},
   "outputs": [],
   "source": [
    "def open_files(file_path, recipe_file, ids_file):\n",
    "    recipe_file = open(file_path + recipe_file, 'r')\n",
    "    ids_file = open(file_path + ids_file, 'r')\n",
    "    return recipe_file.read(), ids_file.read()\n",
    "\n",
    "\n",
    "def convert_to_json(recipes_text, ids_text):\n",
    "\n",
    "    recipe_ids = list(map(lambda x: int(x), ids_text.split(\", \")))\n",
    "    recipes_list = recipes_text.split(\"$%&->recipe_end<-&%$\")\n",
    "    recipes_json = []\n",
    "    for recipe in recipes_list:\n",
    "        recipes_json.append(json.loads(recipe))\n",
    "    return recipes_json, recipe_ids"
   ]
  },
  {
   "cell_type": "code",
   "execution_count": 56,
   "metadata": {},
   "outputs": [],
   "source": [
    "file_path = '/home/katie/01-OneDrive/01_galvanize_dsi/capstones/03-capstone_3/data/'\n",
    "recipes_text , ids_text = open_files(file_path, recipe_file = 'test_recipes.txt' , ids_file = 'test_ids.csv')\n",
    "recipes_json, recipe_ids = convert_to_json(recipes_text, ids_text)"
   ]
  },
  {
   "cell_type": "code",
   "execution_count": 58,
   "metadata": {},
   "outputs": [
    {
     "data": {
      "text/plain": [
       "2"
      ]
     },
     "execution_count": 58,
     "metadata": {},
     "output_type": "execute_result"
    }
   ],
   "source": [
    "len(recipe_json)"
   ]
  },
  {
   "cell_type": "code",
   "execution_count": null,
   "metadata": {},
   "outputs": [],
   "source": []
  },
  {
   "cell_type": "code",
   "execution_count": null,
   "metadata": {},
   "outputs": [],
   "source": []
  },
  {
   "cell_type": "code",
   "execution_count": null,
   "metadata": {},
   "outputs": [],
   "source": []
  },
  {
   "cell_type": "code",
   "execution_count": null,
   "metadata": {},
   "outputs": [],
   "source": []
  },
  {
   "cell_type": "code",
   "execution_count": null,
   "metadata": {},
   "outputs": [],
   "source": []
  },
  {
   "cell_type": "code",
   "execution_count": null,
   "metadata": {},
   "outputs": [],
   "source": []
  },
  {
   "cell_type": "code",
   "execution_count": null,
   "metadata": {},
   "outputs": [],
   "source": []
  },
  {
   "cell_type": "code",
   "execution_count": null,
   "metadata": {},
   "outputs": [],
   "source": []
  },
  {
   "cell_type": "code",
   "execution_count": null,
   "metadata": {},
   "outputs": [],
   "source": []
  },
  {
   "cell_type": "code",
   "execution_count": null,
   "metadata": {},
   "outputs": [],
   "source": []
  },
  {
   "cell_type": "code",
   "execution_count": null,
   "metadata": {},
   "outputs": [],
   "source": []
  },
  {
   "cell_type": "code",
   "execution_count": null,
   "metadata": {},
   "outputs": [],
   "source": []
  },
  {
   "cell_type": "code",
   "execution_count": null,
   "metadata": {},
   "outputs": [],
   "source": []
  },
  {
   "cell_type": "code",
   "execution_count": null,
   "metadata": {},
   "outputs": [],
   "source": []
  },
  {
   "cell_type": "code",
   "execution_count": null,
   "metadata": {},
   "outputs": [],
   "source": []
  },
  {
   "cell_type": "code",
   "execution_count": null,
   "metadata": {},
   "outputs": [],
   "source": []
  },
  {
   "cell_type": "code",
   "execution_count": null,
   "metadata": {},
   "outputs": [],
   "source": []
  },
  {
   "cell_type": "code",
   "execution_count": null,
   "metadata": {},
   "outputs": [],
   "source": []
  }
 ],
 "metadata": {
  "kernelspec": {
   "display_name": "Python 3",
   "language": "python",
   "name": "python3"
  },
  "language_info": {
   "codemirror_mode": {
    "name": "ipython",
    "version": 3
   },
   "file_extension": ".py",
   "mimetype": "text/x-python",
   "name": "python",
   "nbconvert_exporter": "python",
   "pygments_lexer": "ipython3",
   "version": "3.6.8"
  }
 },
 "nbformat": 4,
 "nbformat_minor": 2
}
