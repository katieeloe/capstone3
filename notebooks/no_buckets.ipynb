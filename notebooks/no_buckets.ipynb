{
 "cells": [
  {
   "cell_type": "code",
   "execution_count": null,
   "metadata": {},
   "outputs": [],
   "source": [
    "import json\n",
    "import pandas as pd\n",
    "import numpy as np\n",
    "from multi_key_dict import multi_key_dict\n",
    "from sklearn.feature_extraction.text import CountVectorizer\n",
    "from sklearn.metrics.pairwise import linear_kernel\n",
    "from IPython.display import display, HTML\n",
    "pd.options.display.max_columns = 500\n",
    "\n",
    "# Using plotly + cufflinks in offline mode\n",
    "\n",
    "import plotly.plotly as py\n",
    "import plotly.graph_objs as go\n",
    "import plotly\n",
    "from plotly.offline import download_plotlyjs, init_notebook_mode, plot, iplot\n",
    "import cufflinks as cf\n",
    "cf.set_config_file(offline=True)"
   ]
  },
  {
   "cell_type": "code",
   "execution_count": null,
   "metadata": {},
   "outputs": [],
   "source": [
    "recipe_file = open('/home/katie/01-OneDrive/01_galvanize_dsi/capstones/03-capstone_3/capstone3/data/random_recipes.txt', 'r')\n",
    "ids_file = open('/home/katie/01-OneDrive/01_galvanize_dsi/capstones/03-capstone_3/capstone3/data/recipe_ids.csv', 'r')\n",
    "\n",
    "recipes_text = recipe_file.read()\n",
    "ids_text = ids_file.read()\n",
    "recipe_ids = list(map(lambda x: int(x), ids_text.split(\", \")))  \n",
    "recipes_list = recipes_text.split(\"$%&->recipe_end<-&%$\")\n",
    "recipes_json = []\n",
    "for recipe in recipes_list:\n",
    "    recipes_json.append(json.loads(recipe))"
   ]
  },
  {
   "cell_type": "code",
   "execution_count": null,
   "metadata": {},
   "outputs": [],
   "source": [
    "bool_feature_cols = ['dairy_free','fodmap_friendly','gluten_free','keto','vegetarian','paleo','pescatarian',\n",
    "                          'primal','vegan','whole_30', 'african', 'american','asian', 'bbq','british','cajun', 'caribbean','central_american',\n",
    "                          'chinese','eastern_european','english','european','french','german','greek','indian', 'irish', 'italian','jewish','japenese','latin_american','mediterranean',\n",
    "                          'mexican','middle_eastern','scottish','south_american','southern','spanish','thai','vietnamese','appetizer',\n",
    "                          'batter','beverage','bread','breakfast','condiment','dessert','dinner','dip','lunch','main_dish',\n",
    "                          'salad','side_dish','snack','soup','spread']"
   ]
  },
  {
   "cell_type": "code",
   "execution_count": null,
   "metadata": {},
   "outputs": [],
   "source": [
    "feature_dict = dict([('dairy free', 'dairy_free'), ('fodmap friendly', 'fodmap_friendly'), ('gluten free', 'gluten_free'),\n",
    "             ('ketogenic', 'keto'), ('lacto ovo vegetarian', 'vegetarian'), ('paleolithic', 'paleo'), \n",
    "             ('pescatarian', 'pescatarian'), ('primal', 'primal'), ('vegan', 'vegan'), ('whole 30', 'whole_30'),\n",
    "             ('american', 'american'), ('asian', 'asian'), ('british', 'british'), ('caribbean', 'caribbean'), \n",
    "             ('central american', 'central_american'), ('chines', 'chinese'), ('english', 'english'), \n",
    "             ('european','european'),('french', 'french'), ('german', 'german'), ('greek', 'greek'), \n",
    "             ('indian', 'indian'), ('italian', 'italian'),('jewish', 'jewish'), ('mediterranean', 'mediterranean'),\n",
    "             ('mexican', 'mexican'), ('middl eastern', 'middle_eastern'),('scottish', 'scottish'),\n",
    "             ('southern', 'southern'), ('spanish', 'spanish'),('vietnames', 'vietnamese'), ('antipasti', 'appetizer'),\n",
    "             ('antipasto', 'appetizer'),('appetizer', 'appetizer'), ('batter', 'batter'), ('bread', 'bread'),\n",
    "             ('breakfast', 'breakfast'),('brunch', 'breakfast'), ('condiment', 'condiment'), ('dessert', 'dessert'),\n",
    "             ('dinner', 'dinner'), ('dip', 'dip'), (\"hor d'oeuvre\", 'appetizer'), ('lunch', 'lunch'),\n",
    "             ('main course', 'main_dish'),('main dish', 'main_dish'), ('morning meal', 'breakfast'),('salad', 'salad'), \n",
    "             ('sauce', 'condiment'),('side dish', 'side_dish'), ('snack', 'snack'),('soup', 'soup'), \n",
    "             ('spread', 'spread'), ('starter', 'appetizer'), ('african', 'african'), ('cajun', 'cajun'), ('creol', 'cajun'),\n",
    "             ('south american', 'south_american'), ('latin american', 'latin_american'), ('irish', 'irish'), ('thai', 'thai'),\n",
    "             ('bbq', 'bbq'), ('barbecu', 'bbq'), ('japanes', 'japenese'), ('scandinavian', 'eastern_european'), \n",
    "             ('nordic', 'eastern_european'), ('beverage', 'beverage'), ('drink', 'beverage'), ('frosting', 'dessert'), \n",
    "             ('icing', 'dessert'), ('crust', 'bread')])"
   ]
  },
  {
   "cell_type": "code",
   "execution_count": null,
   "metadata": {},
   "outputs": [],
   "source": [
    "rows = np.zeros(shape=(len(recipes_json),len(bool_feature_cols)))\n",
    "df = pd.DataFrame(rows,columns=bool_feature_cols)"
   ]
  },
  {
   "cell_type": "code",
   "execution_count": null,
   "metadata": {},
   "outputs": [],
   "source": [
    "#recipes_json[0]"
   ]
  },
  {
   "cell_type": "code",
   "execution_count": null,
   "metadata": {},
   "outputs": [],
   "source": [
    "for idx, recipe in enumerate(recipes_json):\n",
    "    for cuisine in recipe['cuisines']:\n",
    "        df.iloc[idx][feature_dict[cuisine]] = 1"
   ]
  },
  {
   "cell_type": "code",
   "execution_count": null,
   "metadata": {},
   "outputs": [],
   "source": [
    "for idx, recipe in enumerate(recipes_json):\n",
    "    for dt in recipe['dishTypes']:\n",
    "        df.iloc[idx][feature_dict[dt]] = 1"
   ]
  },
  {
   "cell_type": "code",
   "execution_count": null,
   "metadata": {},
   "outputs": [],
   "source": [
    "for idx, recipe in enumerate(recipes_json):\n",
    "    for diet in recipe['diets']:\n",
    "        df.iloc[idx][feature_dict[diet]] = 1"
   ]
  },
  {
   "cell_type": "code",
   "execution_count": null,
   "metadata": {},
   "outputs": [],
   "source": [
    "#df.head()"
   ]
  },
  {
   "cell_type": "code",
   "execution_count": null,
   "metadata": {},
   "outputs": [],
   "source": [
    "len(recipe_ids)"
   ]
  },
  {
   "cell_type": "code",
   "execution_count": null,
   "metadata": {},
   "outputs": [],
   "source": [
    "unique_recipe_ids = set(recipe_ids)\n",
    "len(unique_recipe_ids)"
   ]
  },
  {
   "cell_type": "code",
   "execution_count": null,
   "metadata": {},
   "outputs": [],
   "source": [
    "ingredients = []\n",
    "combined_ingredients = []\n",
    "for recipe in recipes_json:\n",
    "    _ = []\n",
    "    for ingredient in recipe['extendedIngredients']:\n",
    "        _.append(ingredient['name'].lower())\n",
    "        combined_ingredients.append(ingredient['name'].lower())\n",
    "    ingredients.append(_)"
   ]
  },
  {
   "cell_type": "code",
   "execution_count": null,
   "metadata": {},
   "outputs": [],
   "source": [
    "unique_ingredients = set(combined_ingredients)"
   ]
  },
  {
   "cell_type": "code",
   "execution_count": null,
   "metadata": {},
   "outputs": [],
   "source": [
    "unique_sort = sorted(unique_ingredients)\n",
    "print(len(unique_ingredients))\n",
    "print(len(combined_ingredients))"
   ]
  },
  {
   "cell_type": "code",
   "execution_count": null,
   "metadata": {},
   "outputs": [],
   "source": [
    "ingredient_strings = []\n",
    "for recipe in ingredients:\n",
    "    ingredient_strings.append(' '.join(recipe))"
   ]
  },
  {
   "cell_type": "code",
   "execution_count": null,
   "metadata": {},
   "outputs": [],
   "source": [
    "vectorizer = CountVectorizer()\n",
    "X = vectorizer.fit_transform(ingredient_strings)"
   ]
  },
  {
   "cell_type": "code",
   "execution_count": null,
   "metadata": {},
   "outputs": [],
   "source": [
    "ingredients_dense = X.todense()"
   ]
  },
  {
   "cell_type": "code",
   "execution_count": null,
   "metadata": {},
   "outputs": [],
   "source": [
    "ingredients_dense.shape"
   ]
  },
  {
   "cell_type": "code",
   "execution_count": null,
   "metadata": {},
   "outputs": [],
   "source": [
    "ingredients_df = pd.DataFrame(ingredients_dense, columns = vectorizer.get_feature_names())"
   ]
  },
  {
   "cell_type": "code",
   "execution_count": null,
   "metadata": {},
   "outputs": [],
   "source": [
    "ingredients_df.head()"
   ]
  },
  {
   "cell_type": "code",
   "execution_count": null,
   "metadata": {},
   "outputs": [],
   "source": [
    "ingredients_boolean_df = ingredients_df.astype(bool).astype(int)\n",
    "df = df.astype(bool).astype(int)"
   ]
  },
  {
   "cell_type": "code",
   "execution_count": null,
   "metadata": {},
   "outputs": [],
   "source": [
    "ingredients_boolean_df.head()"
   ]
  },
  {
   "cell_type": "code",
   "execution_count": null,
   "metadata": {},
   "outputs": [],
   "source": [
    "combined_feat_df = pd.concat([ingredients_boolean_df, df], axis=1)"
   ]
  },
  {
   "cell_type": "code",
   "execution_count": null,
   "metadata": {
    "scrolled": true
   },
   "outputs": [],
   "source": [
    "combined_feat_df.shape"
   ]
  },
  {
   "cell_type": "code",
   "execution_count": null,
   "metadata": {},
   "outputs": [],
   "source": [
    "cosine_similarities = linear_kernel(combined_feat_df, combined_feat_df)"
   ]
  },
  {
   "cell_type": "code",
   "execution_count": null,
   "metadata": {},
   "outputs": [],
   "source": [
    "cosine_similarities"
   ]
  },
  {
   "cell_type": "code",
   "execution_count": null,
   "metadata": {},
   "outputs": [],
   "source": [
    "num_rec = 5\n",
    "results = []\n",
    "pairings = []\n",
    "\n",
    "for idx, recipe in enumerate(recipes_json):\n",
    "    similar_indices = cosine_similarities[idx].argsort()[:-num_rec-2:-1]\n",
    "    similar_indices = similar_indices[1:]\n",
    "    recommendations = []\n",
    "    for i in similar_indices:\n",
    "        recommendations.append(recipe.get('id'))\n",
    "        recommendations.append(recipe.get('title'))\n",
    "        recommendations.append(recipes_json[i].get('title'))\n",
    "        recommendations.append(recipes_json[i].get('image'))\n",
    "        recommendations.append(recipes_json[i].get('winePairing').get('pairedWines'))\n",
    "        recommendations.append(recipes_json[i].get('winePairing').get('pairingText'))\n",
    "        recommendations.append(recipes_json[i].get('sourceUrl'))\n",
    "        pairings.append((recipe.get('title'), recipes_json[i].get('title')))\n",
    "    results.append(recommendations)"
   ]
  },
  {
   "cell_type": "code",
   "execution_count": null,
   "metadata": {},
   "outputs": [],
   "source": [
    "pairings"
   ]
  },
  {
   "cell_type": "code",
   "execution_count": null,
   "metadata": {},
   "outputs": [],
   "source": [
    "italian = list(combined_feat_df.query(\"italian == 1\").index)\n",
    "asian = list(combined_feat_df.query(\"asian == 1\").index)\n",
    "keto = list(combined_feat_df.query(\"keto == 1\").index)\n",
    "gf = list(combined_feat_df.query(\"gluten_free == 1\").index)"
   ]
  },
  {
   "cell_type": "code",
   "execution_count": null,
   "metadata": {},
   "outputs": [],
   "source": [
    "base = []\n",
    "for idx in gf[0:8]:\n",
    "    base.append(('Gluten-Free', recipes_json[idx]['id'], recipes_json[idx]['title']))"
   ]
  },
  {
   "cell_type": "code",
   "execution_count": null,
   "metadata": {},
   "outputs": [],
   "source": []
  },
  {
   "cell_type": "code",
   "execution_count": null,
   "metadata": {},
   "outputs": [],
   "source": []
  },
  {
   "cell_type": "code",
   "execution_count": null,
   "metadata": {},
   "outputs": [],
   "source": []
  },
  {
   "cell_type": "code",
   "execution_count": null,
   "metadata": {},
   "outputs": [],
   "source": []
  },
  {
   "cell_type": "code",
   "execution_count": null,
   "metadata": {},
   "outputs": [],
   "source": []
  },
  {
   "cell_type": "code",
   "execution_count": null,
   "metadata": {},
   "outputs": [],
   "source": []
  },
  {
   "cell_type": "code",
   "execution_count": null,
   "metadata": {},
   "outputs": [],
   "source": []
  },
  {
   "cell_type": "code",
   "execution_count": null,
   "metadata": {},
   "outputs": [],
   "source": []
  },
  {
   "cell_type": "code",
   "execution_count": null,
   "metadata": {},
   "outputs": [],
   "source": []
  },
  {
   "cell_type": "code",
   "execution_count": null,
   "metadata": {},
   "outputs": [],
   "source": []
  },
  {
   "cell_type": "code",
   "execution_count": null,
   "metadata": {},
   "outputs": [],
   "source": []
  }
 ],
 "metadata": {
  "kernelspec": {
   "display_name": "Python 3",
   "language": "python",
   "name": "python3"
  },
  "language_info": {
   "codemirror_mode": {
    "name": "ipython",
    "version": 3
   },
   "file_extension": ".py",
   "mimetype": "text/x-python",
   "name": "python",
   "nbconvert_exporter": "python",
   "pygments_lexer": "ipython3",
   "version": "3.6.8"
  }
 },
 "nbformat": 4,
 "nbformat_minor": 2
}
